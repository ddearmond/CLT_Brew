{
 "cells": [
  {
   "cell_type": "markdown",
   "metadata": {
    "heading_collapsed": "true"
   },
   "source": [
    "# Imports"
   ]
  },
  {
   "cell_type": "code",
   "execution_count": 9,
   "metadata": {},
   "outputs": [],
   "source": [
    "# Imports\n",
    "import pandas as pd\n",
    "pd.set_option('display.max_columns', None)\n",
    "pd.set_option('display.max_rows', None)\n",
    "import numpy as np\n",
    "import requests\n",
    "import plotly.express as px\n",
    "\n",
    "# Python library for pulling data out of HTML and XML files\n",
    "from bs4 import BeautifulSoup\n",
    "\n",
    "# enable the automation of web browsers\n",
    "from selenium import webdriver\n",
    "from selenium.webdriver.common.by import By\n",
    "from selenium.webdriver.support.ui import WebDriverWait\n",
    "from selenium.webdriver.support import expected_conditions as EC\n",
    "from selenium.common.exceptions import TimeoutException\n",
    "from selenium.common.exceptions import NoSuchElementException\n",
    "from selenium.webdriver.support.ui import WebDriverWait\n",
    "import time\n",
    "\n",
    "# Regular expression (re) is specially encoded text strings used as patterns for matching/searching for sets of strings\n",
    "import re\n",
    "\n",
    "# imprt preprocessing \n",
    "from sklearn import preprocessing\n",
    "\n",
    "# import k-means \n",
    "from sklearn.cluster import KMeans"
   ]
  },
  {
   "cell_type": "markdown",
   "metadata": {},
   "source": [
    "# 1. Obtain List of Charlotte Breweries\n",
    "NOTE: The results you get might be in a different order or return different venues."
   ]
  },
  {
   "cell_type": "code",
   "execution_count": 10,
   "metadata": {},
   "outputs": [],
   "source": [
    "# Foursquare Credentionals\n",
    "\n",
    "CLIENT_ID = 'your_client_id' # your Foursquare client ID\n",
    "CLIENT_SECRET = 'your_client_secret' # your Foursquare client Secret\n",
    "VERSION = '20210119'"
   ]
  },
  {
   "cell_type": "code",
   "execution_count": 11,
   "metadata": {},
   "outputs": [],
   "source": [
    "def getNearbyVenues(city_state, latitude, longitude, radius, category):\n",
    "    \"\"\"\n",
    "    Function that returns a list of venues from a specififed location\n",
    "    \n",
    "    Parameters\n",
    "    ----------\n",
    "    city_state : str\n",
    "        city and state location (i.e. 'Charlotte, North Carolina')\n",
    "    latitude : float\n",
    "        latitude of the location (i.e. 35.2271)\n",
    "    longitude : float\n",
    "        longitude of the location (i.e. -80.8431)\n",
    "    radius : int\n",
    "        limits the results to venues within this many meters of the specified location\n",
    "    category : str\n",
    "        A category to limit results to a specific category. https://developer.foursquare.com/docs/build-with-foursquare/categories/\n",
    "    \n",
    "    Returns\n",
    "    -------\n",
    "    pandas.core.frame.DataFrame\n",
    "        Pandas Dataframe object\n",
    "    \n",
    "    \"\"\"\n",
    "    # Set the limit of the results to return\n",
    "    LIMIT = 50\n",
    "    \n",
    "    # Create an empty list to store the results\n",
    "    venues_list=[]    \n",
    "    \n",
    "    # Create the API request URL\n",
    "    url = 'https://api.foursquare.com/v2/venues/search?&client_id={}&client_secret={}&v={}&ll={},{}&radius={}&categoryId={}&limit={}'.format(\n",
    "        CLIENT_ID, \n",
    "        CLIENT_SECRET,\n",
    "        VERSION,\n",
    "        latitude, \n",
    "        longitude,\n",
    "        radius,\n",
    "        category,\n",
    "        LIMIT)\n",
    "\n",
    "    # make the GET request\n",
    "    results = requests.get(url).json()['response']['venues']\n",
    "\n",
    "    # return only relevant information for each nearby venue\n",
    "    venues_list.append([(\n",
    "        city_state, \n",
    "        latitude, \n",
    "        longitude, \n",
    "        v['name'], \n",
    "        v['location']['lat'], \n",
    "        v['location']['lng'],\n",
    "        v['categories'][0]['name']) for v in results])\n",
    "    \n",
    "    # Create pandas df with from the venues_list\n",
    "    nearby_venues = pd.DataFrame([item for venue_list in venues_list for item in venue_list])\n",
    "    nearby_venues.columns = ['City', \n",
    "                  'City Latitude', \n",
    "                  'City Longitude', \n",
    "                  'Brewery', \n",
    "                  'Brewery Latitude', \n",
    "                  'Brewery Longitude', \n",
    "                  'Venue Category']\n",
    "    \n",
    "    return(nearby_venues)"
   ]
  },
  {
   "cell_type": "code",
   "execution_count": 12,
   "metadata": {},
   "outputs": [],
   "source": [
    "# Define parameters for the getNearbyVenues\n",
    "\n",
    "clt_nc = 'Charlotte, North Carolina'\n",
    "clt_lat = 35.2271\n",
    "clt_lng = -80.8431\n",
    "radius = 10000\n",
    "\n",
    "# Brewery Category\n",
    "category_id = '50327c8591d4c4b30a586d5d'"
   ]
  },
  {
   "cell_type": "code",
   "execution_count": 13,
   "metadata": {},
   "outputs": [],
   "source": [
    "# Call the getNearbyVenues and store the results\n",
    "\n",
    "CLT_Brew = getNearbyVenues(clt_nc, clt_lat, clt_lng, radius, category_id)"
   ]
  },
  {
   "cell_type": "code",
   "execution_count": null,
   "metadata": {},
   "outputs": [],
   "source": [
    "# show the first 5 rows of the dataframe\n",
    "CLT_Brew.head()"
   ]
  },
  {
   "cell_type": "code",
   "execution_count": 41,
   "metadata": {},
   "outputs": [],
   "source": [
    "# Write to CSV for easier retrival later\n",
    "#CLT_Brew.to_csv('data/charlotte_breweries_raw.csv', index=False)"
   ]
  },
  {
   "cell_type": "markdown",
   "metadata": {
    "heading_collapsed": "true"
   },
   "source": [
    "## 1.1 - Confirm Brewery list with Axios Charlotte and Untappd.com\n",
    "* https://charlotte.axios.com/31429/breweries-in-charlotte/\n",
    "* https://untappd.com/"
   ]
  },
  {
   "cell_type": "code",
   "execution_count": 4,
   "metadata": {},
   "outputs": [],
   "source": [
    "CLT_Brew = pd.read_csv('data/charlotte_breweries_raw.csv')"
   ]
  },
  {
   "cell_type": "code",
   "execution_count": null,
   "metadata": {},
   "outputs": [],
   "source": [
    "# Sort the df by Brewery name and identify which Brewery to drop.\n",
    "\n",
    "CLT_Brew.sort_values(by=['Brewery'])"
   ]
  },
  {
   "cell_type": "markdown",
   "metadata": {},
   "source": [
    "## 1.2 - Drop invalid breweries \n",
    "NOTE: The results you have might be in a different order or return different venues. Make sure to spot check before running the code in this section\n",
    "\n",
    "1. 16 HG Brewer - doesn't exist\n",
    "2. Bold Missy Brewery - out of business\n",
    "3. Donut Taco Palace - doesn't exist\n",
    "4. Doug's Desk - doesn't exist\n",
    "5. Free Range Brewing Camp North End - duplicate\n",
    "6. Furphy's Log Palace - doesn't exist\n",
    "7. GoodRoad CiderWorks - doesn't sell beer\n",
    "8. Heist Brewery and Barrel Arts - duplicate\n",
    "9. Jack Shack - doesn't exist\n",
    "10. Legion Brewing Southpark - duplicate\n",
    "11. Red Clay Ciderworks doesn't sell beers\n",
    "12. Scott M*otherf*ckin' Stallings Brewery - doesn't exist\n",
    "13. Summit Seltzery- doesnt sell beers\n",
    "14. Sunstead Brewing - doesn't exist\n",
    "15. The Chamber By Wooden Robot - Duplicate\n",
    "16. Thirsty Nomad Brewing Co. - out of business\n",
    "17. Three Spirits Brewery - out of business\n",
    "18. Toucan Louie's Gold District - doesn't exist"
   ]
  },
  {
   "cell_type": "code",
   "execution_count": 44,
   "metadata": {},
   "outputs": [],
   "source": [
    "# Since Protagonist is listed twice, we need to drop one. \n",
    "# Upon looking at Protagonist's website and the geo-coordinates, the value at index 8 is the Noda taproom location.\n",
    "# Since Armored Cow Brewing Co. does not come back with the search results, we can replace values at that index with Armored Cow Brewing Co. values\n",
    "\n",
    "CLT_Brew.loc[CLT_Brew.index[8], 'Brewery'] = 'Armored Cow Brewing Co.'\n",
    "\n",
    "CLT_Brew.loc[CLT_Brew.index[8], 'Brewery Latitude'] = 35.313514\n",
    "\n",
    "CLT_Brew.loc[CLT_Brew.index[8], 'Brewery Longitude'] = -80.753259  "
   ]
  },
  {
   "cell_type": "code",
   "execution_count": 62,
   "metadata": {},
   "outputs": [],
   "source": [
    "# Define list of the breweries to drop\n",
    "brews_to_drop = ['16 HG Brewer', 'Bold Missy Brewery', 'Brewers at 4001 Yancey', 'Donut Taco Palace', \"Doug's Desk\", 'Free Range Brewing Camp North End', \n",
    "                 \"Furphy's Log Palace\", 'GoodRoad CiderWorks', 'Heist Brewery and Barrel Arts', 'Jack Shack', 'Legion Brewing Southpark',\n",
    "                 'Red Clay Ciderworks', \"Scott M*otherf*ckin' Stallings Brewery\", 'Summit Seltzery', 'Sunstead Brewing',\n",
    "                 'The Chamber By Wooden Robot', 'Thirsty Nomad Brewing Co.', 'Three Spirits Brewery', \"Toucan Louie's Gold District\"\n",
    "                ]\n"
   ]
  },
  {
   "cell_type": "code",
   "execution_count": 63,
   "metadata": {},
   "outputs": [],
   "source": [
    "# Drop the breweries \n",
    "CLT_Brew.drop(CLT_Brew[CLT_Brew['Brewery'].isin(brews_to_drop)].index, inplace=True)\n",
    "\n",
    "# Reset the index of the dataframe\n",
    "CLT_Brew.reset_index(drop=True, inplace=True)"
   ]
  },
  {
   "cell_type": "code",
   "execution_count": 2,
   "metadata": {},
   "outputs": [],
   "source": [
    "# Write to CSV for easier retrival later\n",
    "#CLT_Brew.to_csv('data/charlotte_breweries_clean.csv', index=False)"
   ]
  },
  {
   "cell_type": "markdown",
   "metadata": {
    "heading_collapsed": "true"
   },
   "source": [
    "# 2. View the breweries on a map"
   ]
  },
  {
   "cell_type": "code",
   "execution_count": null,
   "metadata": {},
   "outputs": [],
   "source": [
    "CLT_Brew = pd.read_csv('data/charlotte_breweries_clean.csv')"
   ]
  },
  {
   "cell_type": "code",
   "execution_count": 30,
   "metadata": {},
   "outputs": [],
   "source": [
    "mapbox_token = 'your_mapbox_token'\n",
    "\n",
    "# Create dictionary of Charlotte, NC geo-coordinates\n",
    "clt_geo = {\n",
    "  \"lat\": clt_lat,\n",
    "  \"lon\": clt_lng\n",
    "}"
   ]
  },
  {
   "cell_type": "code",
   "execution_count": null,
   "metadata": {},
   "outputs": [],
   "source": [
    "# Set your mapbox access token\n",
    "px.set_mapbox_access_token(mapbox_token)\n",
    "\n",
    "# Create plotly express scatter_mapbox figure\n",
    "CLT_Brew_Map = px.scatter_mapbox(CLT_Brew,\n",
    "                        lat=CLT_Brew['Brewery Latitude'],\n",
    "                        lon=CLT_Brew['Brewery Longitude'],\n",
    "                        hover_name=CLT_Brew['Brewery'],\n",
    "                        center= clt_geo,\n",
    "                        zoom=10)\n",
    "\n",
    "# Show the plotly express scatter_mapbox figure\n",
    "CLT_Brew_Map.show()"
   ]
  },
  {
   "cell_type": "markdown",
   "metadata": {},
   "source": [
    "# 3. Scrape the Beer list for each Brewery from Untappd.com"
   ]
  },
  {
   "cell_type": "markdown",
   "metadata": {
    "heading_collapsed": "true"
   },
   "source": [
    "## 3.1 - Steps to get entire page contents for each Brewery\n",
    "1. Create a list of Breweries sorted by Alphabetical Order (Section 3.1.1)\n",
    "2. Create a list of URLs for each \"Beers\" page of each Brewery. Sorted by Alphebetical Order (Section 3.1.2)\n",
    "3. Define function that creates a BeautifulSoup object (Section 3.1.3)\n",
    "4. Initialize a Selenium Webdriver (Chrome) and login to your Untappd Account (Section 3.1.4)\n",
    "5. Create a list of BeatutifulSoup objects for each url  (Section 3.1.5)"
   ]
  },
  {
   "cell_type": "code",
   "execution_count": null,
   "metadata": {},
   "outputs": [],
   "source": [
    "CLT_Brew = pd.read_csv('data/charlotte_breweries_clean.csv')"
   ]
  },
  {
   "cell_type": "markdown",
   "metadata": {
    "heading_collapsed": "true"
   },
   "source": [
    "### 3.1.1 - Create list of the breweries sorted by alphabetical order"
   ]
  },
  {
   "cell_type": "code",
   "execution_count": null,
   "metadata": {},
   "outputs": [],
   "source": [
    "# Create a sorted list of the breweries\n",
    "brewery_list = sorted(CLT_Brew['Brewery'].tolist())\n",
    "\n",
    "len(brewery_list)"
   ]
  },
  {
   "cell_type": "markdown",
   "metadata": {
    "heading_collapsed": "true"
   },
   "source": [
    "### 3.1.2 - Create a list of URLs for each \"Beers\" page of each Brewery. Sorted by Alphebetical Order"
   ]
  },
  {
   "cell_type": "code",
   "execution_count": null,
   "metadata": {},
   "outputs": [],
   "source": [
    "# Create list of urls from untappd.com\n",
    "\n",
    "url_list = [ \n",
    "    'https://untappd.com/Armored_Cow_Brewing_/beer', # Armored Cow Brewing Co.\n",
    "    'https://untappd.com/BirdsongBrewingCo/beer', # Birdsong Brewing Co.\n",
    "    'https://untappd.com/BlueBlazeBrewing/beer', # Blue Blaze Brewing Co\n",
    "    'https://untappd.com/catawbavalleybc/beer', # Catawba Brewing Charlotte\n",
    "    'https://untappd.com/DevilsLogicBrewing/beer', # Devil’s Logic Brewing\n",
    "    'https://untappd.com/DivineBarrelBrewing/beer', # Divine Barrel Brewing\n",
    "    'https://untappd.com/Edge_City_Brewery/beer', # Edge City Brewery\n",
    "    'https://untappd.com/FontaFloraBrewery/beer', # Fonta Flora Brewery - Optimist Hall\n",
    "    'https://untappd.com/freerangebrewing/beer', # Free Range Brewing\n",
    "    'https://untappd.com/HeistBreweryNC/beer', # Heist Brewery\n",
    "    'https://untappd.com/LegionBrewingCompany/beer', # Legion Brewing\n",
    "    'https://untappd.com/LennyBoyBrewing/beer', # Lenny Boy Brewing Co.\n",
    "    'https://untappd.com/LLBrewCo/beer', # Lower Left Brewing Co.\n",
    "    'https://untappd.com/nodabrewing/beer', # NoDa Brewing Company North End\n",
    "    'https://untappd.com/oldemeckbrew/beer', # Olde Mecklenburg Brewery\n",
    "    'https://untappd.com/PettyThievesBrewingCo/beer', # Petty Thieves Brewing Company\n",
    "    'https://untappd.com/PilotBrewingCompany/beer', # Pilot Brewing\n",
    "    'https://untappd.com/ProtagonistBeer/beer', # Protagonist\n",
    "    'https://untappd.com/Resident_Culture/beer', # Resident Culture Brewing Co.\n",
    "    'https://untappd.com/SaltyParrotBrewing/beer', # Salty Parrot Brewing Company\n",
    "    'https://untappd.com/SaludCerveceria/beer', # Salud Cerveceria\n",
    "    'https://untappd.com/SugarCreekBrewingCompany/beer', # Sugar Creek Brewing Company\n",
    "    'https://untappd.com/SycamoreBrewing/beer', # Sycamore Brewing\n",
    "    'https://untappd.com/SuffolkPunchBrewing/beer', # The Suffolk Punch\n",
    "    'https://untappd.com/TownBrewing/beer', # Town Brewing Company\n",
    "    'https://untappd.com/triplecbrewing/beer', # Triple C Brewing Company\n",
    "    'https://untappd.com/TheUnkn/beer', # Unknown Brewing Co.\n",
    "    'https://untappd.com/WoodenRobot/beer' # Wooden Robot Brewery\n",
    "]\n",
    "\n",
    "len(url_list)"
   ]
  },
  {
   "cell_type": "markdown",
   "metadata": {
    "heading_collapsed": "true"
   },
   "source": [
    "### 3.1.3 - Define function that creates a BeautifulSoup object"
   ]
  },
  {
   "cell_type": "code",
   "execution_count": 75,
   "metadata": {},
   "outputs": [],
   "source": [
    "def make_soup(drive):\n",
    "    \"\"\"\n",
    "    Function that creates a BeautifulSoup object. \n",
    "    \n",
    "    Parameters\n",
    "    ----------\n",
    "    arg1 : elenium.webdriver.chrome.webdriver.WebDriver\n",
    "\n",
    "    Returns\n",
    "    -------\n",
    "    bs4.BeautifulSoup\n",
    "       BeautifulSoup object from a brewery beer list url from Untappd.com (i.e. 'https://untappd.com/BirdsongBrewingCo/beer')\n",
    "    \n",
    "    \"\"\"\n",
    "    \n",
    "    html = drive.page_source\n",
    "    soup = BeautifulSoup(html, 'html.parser')\n",
    "    return soup"
   ]
  },
  {
   "cell_type": "markdown",
   "metadata": {
    "heading_collapsed": "true"
   },
   "source": [
    "### 3.1.4 - Initialize a Selenium Webdriver (Chrome) and login to your Untappd Account\n",
    "* Download the Chrome webdriver from https://sites.google.com/a/chromium.org/chromedriver/ and place it in your directory"
   ]
  },
  {
   "cell_type": "code",
   "execution_count": 74,
   "metadata": {},
   "outputs": [],
   "source": [
    "# Create the driver\n",
    "driver = webdriver.Chrome(executable_path='/Users/dillondearmond/Desktop/Coursera/IBM_Data_Science_Professional/chromedriver')\n",
    "\n",
    "# Initialize the driver. Note: this will open up a Chrome browser\n",
    "driver.get('https://untappd.com/')"
   ]
  },
  {
   "cell_type": "markdown",
   "metadata": {
    "heading_collapsed": "true"
   },
   "source": [
    "### 3.1.5 - Create a list of BeatutifulSoup Objects for each url\n",
    "* Note: Sit back watch the magic happen. You will need to wait for \"Complete\" to be printed and the Chrome browser to close before proceeding. "
   ]
  },
  {
   "cell_type": "code",
   "execution_count": null,
   "metadata": {},
   "outputs": [],
   "source": [
    "# Create empty list to store the BeautifulSoup objects\n",
    "soup_list = []\n",
    "\n",
    "\n",
    "# Loop through each url in the url_list\n",
    "for url in url_list:\n",
    "    # Call driver to navigate to the url\n",
    "    driver.get(url)\n",
    "    # Set driver to sleep for 2 seconds to allow page to load\n",
    "    time.sleep(2)\n",
    "    # While loop that looks for and clicks the 'Show More' button until it disappears\n",
    "    while True:\n",
    "        try:\n",
    "            # Find the 'Show More' button\n",
    "            showMoreButton = driver.find_element_by_xpath('//a[contains(@data-href,\":more_beer\")]')\n",
    "            time.sleep(2)\n",
    "            # Click the 'Show More' buttin\n",
    "            showMoreButton.click()\n",
    "            # Set driver to sleep for 2 seconds to allow page to load\n",
    "            time.sleep(2)\n",
    "        # Print error if an exception is thrown\n",
    "        except Exception as e:\n",
    "            print(e)\n",
    "            break\n",
    "    # Call the make_soup function and pass in the driver\n",
    "    soup = make_soup(driver)\n",
    "    # Append the BeautifulSoup object to the soup_list\n",
    "    soup_list.append(soup)\n",
    "    \n",
    "# Print complete when finished    \n",
    "print('Complete')\n",
    "\n",
    "# Close browser\n",
    "driver.quit()"
   ]
  },
  {
   "cell_type": "markdown",
   "metadata": {
    "heading_collapsed": "true"
   },
   "source": [
    "# 4. Create dataframe of Beer Details for each Brewery\n",
    "Dataframe will contain the following attributes:\n",
    "* Brewery\n",
    "* Beer Name\n",
    "* Beer Style\n",
    "* Beer ABV\n",
    "* Beer IBU\n",
    "* Beer Rating\n",
    "* Beer Total Ratings\n",
    "* Beer Added Date"
   ]
  },
  {
   "cell_type": "code",
   "execution_count": 77,
   "metadata": {},
   "outputs": [],
   "source": [
    "def get_beer_details(brew_list, soups):\n",
    "    \"\"\"\n",
    "    The function returns a dataframe consisting of beer details for a brewery on Untappd.\n",
    "     \n",
    "    Parameters\n",
    "    ----------\n",
    "    brew_list : list of strings\n",
    "        string of the Brewery name associated with arg2\n",
    "\n",
    "    soups : bs4.BeautifulSoup\n",
    "        list of BeautifulSoup objects from a brewery beer list url from Untappd.com (i.e. 'https://untappd.com/BirdsongBrewingCo/beer')\n",
    "\n",
    "    Returns\n",
    "    -------\n",
    "    pandas.core.frame.DataFrame\n",
    "        Pandas Dataframe object\n",
    "    \n",
    "    \"\"\"\n",
    "    # Create empty list to store beer details of each brewery\n",
    "    brew_beer_list = []\n",
    "    \n",
    "    \n",
    "    # Loop through every brewery and their respective BeautifulSoup object \n",
    "    # Extract their beer details\n",
    "    for brewery, soup in zip(brew_list, soups):\n",
    "        brew_name = brewery\n",
    "    \n",
    "        # Get Beer names\n",
    "        beer_names = soup.findAll(\"p\", {\"class\": \"name\"})\n",
    "        beer_name_list = [i.text for i in beer_names]\n",
    "\n",
    "        # Get Beer styles    \n",
    "        beer_style = soup.findAll(\"p\", {\"class\": \"style\"})[1:]\n",
    "        # Create list of beer styles\n",
    "        beer_style_list = [i.text for i in beer_style]\n",
    "\n",
    "        # Get the ABV of the first 25 beers listed on the page\n",
    "        beer_ABV = soup.findAll(\"div\", {\"class\": \"details-item abv\"})\n",
    "        # Get the ABV of the remaining beers on the page\n",
    "        beer_ABV_2 = soup.findAll(\"p\", {\"class\": \"abv\"})\n",
    "        # Append the second result set to the the first set\n",
    "        beer_ABV.extend(beer_ABV_2)\n",
    "        # create list of beer ABV\n",
    "        beer_ABV_list = [i.text for i in beer_ABV]\n",
    "        \n",
    "        # Get the IBU of the first 25 beers listed on the page\n",
    "        beer_IBU = soup.findAll(\"div\", {\"class\": \"details-item ibu\"})\n",
    "        # Get the IBU of the remaining beers on the page\n",
    "        beer_IBU_2 = soup.findAll(\"p\", {\"class\": \"ibu\"})\n",
    "        # Append the second result set to the the first set\n",
    "        beer_IBU.extend(beer_IBU_2)\n",
    "        # Create list of beer IBU\n",
    "        beer_IBU_list = [i.text for i in beer_IBU]\n",
    "\n",
    "        # Get the beer ratings \n",
    "        beer_rating = soup.findAll(\"span\", {\"class\": \"num\"})[1:]\n",
    "        # Create list of beer rating\n",
    "        beer_rating_list = [i.text for i in beer_rating]\n",
    "\n",
    "        # Get the Beer rating totals of the first 25 beers\n",
    "        beer_rating_totals = soup.findAll(\"div\", {\"class\": \"details-item raters\"})\n",
    "        # Get the beer rating totals of the remaining beers on the page\n",
    "        beer_rating_totals_2 = soup.findAll(\"p\", {\"class\": \"raters\"})[1:]\n",
    "        # Append the second result set to the first set\n",
    "        beer_rating_totals.extend(beer_rating_totals_2)\n",
    "        # Create list of beer rating totals\n",
    "        beer_rating_totals_list = [i.text for i in beer_rating_totals]\n",
    "        \n",
    "        # Get Beer Added dates of the first 25 beers\n",
    "        beer_added_date = soup.findAll(\"div\", {\"class\": \"details-item date\"})\n",
    "        # Get the beer Added dates of the remaining beers\n",
    "        beer_added_date_2 = soup.findAll(\"p\", {\"class\": \"date\"})\n",
    "        # Append the second result set to the first set\n",
    "        beer_added_date.extend(beer_added_date_2)\n",
    "        # Create list of beer added dates\n",
    "        beer_added_date_list = [i.text for i in beer_added_date]\n",
    "        \n",
    "        # Loop through all the lists and append to the brew_beer_list\n",
    "        for beer, style, ABV, IBU, ratings, totals, date in zip(beer_name_list, beer_style_list, \n",
    "                                                                beer_ABV_list, beer_IBU_list, \n",
    "                                                                beer_rating_list, beer_rating_totals_list, \n",
    "                                                                beer_added_date_list):\n",
    "            brew_beer_list.append([(brew_name, beer, style, ABV, IBU, ratings, totals, date)])\n",
    "    \n",
    "    # Create dataframe to store values from brew_beer_list\n",
    "    df = pd.DataFrame([item for brew_beer_list in brew_beer_list for item in brew_beer_list])\n",
    "    # set the column names\n",
    "    df.columns = ['Brewery',\n",
    "                  'Beer Name',\n",
    "                  'Beer Style',\n",
    "                  'Beer ABV',\n",
    "                  'Beer IBU',\n",
    "                  'Beer Rating',\n",
    "                  'Beer Total Ratings',\n",
    "                  'Beer Added Date'\n",
    "                 ]    \n",
    "    return(df)"
   ]
  },
  {
   "cell_type": "code",
   "execution_count": 78,
   "metadata": {},
   "outputs": [],
   "source": [
    "# Call the function and store it in beer_df\n",
    "beer_df_raw = get_beer_details(brewery_list, soup_list)"
   ]
  },
  {
   "cell_type": "code",
   "execution_count": 79,
   "metadata": {},
   "outputs": [],
   "source": [
    "# Save df to csv. \n",
    "beer_df_raw.to_csv('data/beer_df_raw.csv', index=False)"
   ]
  },
  {
   "cell_type": "code",
   "execution_count": 110,
   "metadata": {},
   "outputs": [],
   "source": [
    "# Return the first 5 rows of the df\n",
    "beer_df_raw.head()"
   ]
  },
  {
   "cell_type": "markdown",
   "metadata": {
    "heading_collapsed": "true"
   },
   "source": [
    "# 5. Clean the dataframe\n",
    "1. Replace unwanted characters (Section 5.1)\n",
    "2. Replace blank values (white space) with NaN (Section 5.2)\n",
    "3. Trim leading and trailing whitespaces (Section 5.3)\n",
    "4. Drop beers with no ratings (Section 5.4)\n",
    "5. Fill NaN values for ABV and IBU with averages (Section 5.5)"
   ]
  },
  {
   "cell_type": "code",
   "execution_count": null,
   "metadata": {},
   "outputs": [],
   "source": [
    "beer_df_raw = pd.read_csv('data/beer_df_raw.csv')"
   ]
  },
  {
   "cell_type": "markdown",
   "metadata": {
    "heading_collapsed": "true"
   },
   "source": [
    "## 5.1 - Replace unwanted characters\n",
    "* Beer ABV - keep only numeric characters and decimals (Ex. \"\\n7.3% ABV\" to \"7.3\" OR \"\\nN/A ABV\" to \"\")\n",
    "* Beer IBU - keep only numeric characters (Ex. \"\\n40 IBU\" to \"40\" OR \"\\nN/A IBU\" to \"\")\n",
    "* Beer Rating - keep only numeric characters and decimcals (Ex. \"(4.02)\" to \"4.02\" OR \"(N/A)\" to \"\")\n",
    "* Beer Total Ratings - keep only numeric characters (Ex. \"\\n348 Ratings\" to \"348\")\n",
    "* Beer Added Date - keep only the date (Ex. \"\\nAdded 05/04/20\" to \"05/04/20\")"
   ]
  },
  {
   "cell_type": "code",
   "execution_count": 114,
   "metadata": {},
   "outputs": [],
   "source": [
    "# Beer ABV\n",
    "p = re.compile(r'[^\\d.\\d]')\n",
    "\n",
    "beer_df_raw['Beer ABV'] = [p.sub('', x) for x in beer_df_raw['Beer ABV']]\n",
    "\n",
    "\n",
    "# Beer IBU\n",
    "p = re.compile(r'\\D')\n",
    "\n",
    "beer_df_raw['Beer IBU'] = [p.sub('', x) for x in beer_df_raw['Beer IBU']]\n",
    "\n",
    "\n",
    "# Beer Rating Column\n",
    "p = re.compile(r'[^\\d.\\d]')\n",
    "\n",
    "beer_df_raw['Beer Rating'] = [p.sub('', x) for x in beer_df_raw['Beer Rating']]\n",
    "\n",
    "# Beer Total Ratings Column\n",
    "p = re.compile(r'\\D')\n",
    "\n",
    "beer_df_raw['Beer Total Ratings'] = [p.sub('', x) for x in beer_df_raw['Beer Total Ratings']]\n",
    "\n",
    "# Beer Added Date Column\n",
    "p = re.compile(r'[^\\d/\\d]')\n",
    "\n",
    "beer_df_raw['Beer Added Date'] = [p.sub('', x) for x in beer_df_raw['Beer Added Date']]"
   ]
  },
  {
   "cell_type": "markdown",
   "metadata": {
    "heading_collapsed": "true"
   },
   "source": [
    "## 5.2 - Replace blank values (white space) with NaN"
   ]
  },
  {
   "cell_type": "code",
   "execution_count": 119,
   "metadata": {},
   "outputs": [],
   "source": [
    "# Beer ABV\n",
    "beer_df_raw['Beer ABV'] = beer_df_raw['Beer ABV'].replace(r'^\\s*$', np.nan, regex=True)\n",
    "\n",
    "# Beer IBU\n",
    "beer_df_raw['Beer IBU'] = beer_df_raw['Beer IBU'].replace(r'^\\s*$', np.nan, regex=True)\n",
    "\n",
    "# Beer Rating\n",
    "beer_df_raw['Beer Rating'] = beer_df_raw['Beer Rating'].replace(r'^\\s*$', np.nan, regex=True)"
   ]
  },
  {
   "cell_type": "markdown",
   "metadata": {
    "heading_collapsed": "true"
   },
   "source": [
    "## 5.3 - Trim leading and trailing whitespaces"
   ]
  },
  {
   "cell_type": "code",
   "execution_count": 120,
   "metadata": {},
   "outputs": [],
   "source": [
    "# Beer Name\n",
    "beer_df_raw['Beer Name'] = beer_df_raw['Beer Name'].str.strip()\n",
    "\n",
    "# Beer Style\n",
    "beer_df_raw['Beer Style'] = beer_df_raw['Beer Style'].str.strip()\n",
    "\n",
    "# Beer Added Date\n",
    "beer_df_raw['Beer Added Date'] = beer_df_raw['Beer Added Date'].str.strip()"
   ]
  },
  {
   "cell_type": "markdown",
   "metadata": {
    "heading_collapsed": "true"
   },
   "source": [
    "## 5.4 - Drop rows with beers that have no rating"
   ]
  },
  {
   "cell_type": "code",
   "execution_count": 122,
   "metadata": {},
   "outputs": [],
   "source": [
    "# Drop rows in which beers have no rating. (i.e. value in that cell is \"NaN\")\n",
    "beer_df_raw.dropna(subset=['Beer Rating'], inplace=True)\n",
    "\n",
    "# Reset the index of the dataframe\n",
    "beer_df_raw.reset_index(drop=True, inplace=True)"
   ]
  },
  {
   "cell_type": "code",
   "execution_count": null,
   "metadata": {},
   "outputs": [],
   "source": [
    "# Confirm that no NaN values are present\n",
    "len(beer_df_raw.loc[(beer_df_raw['Beer Rating'].isna())])"
   ]
  },
  {
   "cell_type": "markdown",
   "metadata": {
    "heading_collapsed": "true"
   },
   "source": [
    "## 5.5 - Fill NaN values for ABV and IBU with averages"
   ]
  },
  {
   "cell_type": "code",
   "execution_count": 124,
   "metadata": {},
   "outputs": [],
   "source": [
    "# Create a copy to avoid setting view warning\n",
    "beer_df_raw_copy = beer_df_raw.copy()"
   ]
  },
  {
   "cell_type": "code",
   "execution_count": 125,
   "metadata": {},
   "outputs": [],
   "source": [
    "# Replace NaN values in the \"Beer ABV\" column with the mean of the Beer Style's Avg ABV\n",
    "beer_df_raw_copy['Beer ABV'].fillna(beer_df_raw.groupby('Beer Style')['Beer ABV'].transform('mean'), inplace=True)\n",
    "\n",
    "# There might be cases where there is a single beer style with \"NaN\" for ABV. \n",
    "## Therefore, we will fill those values with the mean of the entire Beer ABV column\n",
    "beer_df_raw_copy['Beer ABV'].fillna(beer_df_raw['Beer ABV'].mean(), inplace=True)"
   ]
  },
  {
   "cell_type": "code",
   "execution_count": null,
   "metadata": {},
   "outputs": [],
   "source": [
    "# Confirm that no NaN values are present\n",
    "len(beer_df_raw_copy.loc[(beer_df_raw_copy['Beer ABV'].isna())])"
   ]
  },
  {
   "cell_type": "code",
   "execution_count": 127,
   "metadata": {},
   "outputs": [],
   "source": [
    "# Replace NaN values in the \"Beer IBU\" column with the mean of the Beer Style's Avg IBU\n",
    "beer_df_raw_copy['Beer IBU'].fillna(beer_df_raw.groupby('Beer Style')['Beer IBU'].transform('mean'), inplace=True)\n",
    "\n",
    "# There might be cases where there is a single beer style with \"NaN\" for IBU. \n",
    "## Therefore, we will fill those values with the mean of the entire Beer IBU column\n",
    "beer_df_raw_copy['Beer IBU'].fillna(beer_df_raw['Beer IBU'].mean(), inplace=True)"
   ]
  },
  {
   "cell_type": "code",
   "execution_count": null,
   "metadata": {},
   "outputs": [],
   "source": [
    "# Confirm that no NaN values are present\n",
    "len(beer_df_raw_copy.loc[(beer_df_raw_copy['Beer IBU'].isna())])"
   ]
  },
  {
   "cell_type": "code",
   "execution_count": 129,
   "metadata": {},
   "outputs": [],
   "source": [
    "# Save df to csv. \n",
    "beer_df_raw_copy.to_csv('data/beer_df_clean.csv', index=False)"
   ]
  },
  {
   "cell_type": "markdown",
   "metadata": {
    "heading_collapsed": "true"
   },
   "source": [
    "# 6. Exploratory Data Analysis"
   ]
  },
  {
   "cell_type": "code",
   "execution_count": 2,
   "metadata": {},
   "outputs": [],
   "source": [
    "beer_df_clean = pd.read_csv('data/beer_df_clean.csv')"
   ]
  },
  {
   "cell_type": "markdown",
   "metadata": {
    "heading_collapsed": "true"
   },
   "source": [
    "## 6.1 - Describe the dataframe"
   ]
  },
  {
   "cell_type": "code",
   "execution_count": null,
   "metadata": {},
   "outputs": [],
   "source": [
    "beer_df_clean.describe(include='all')"
   ]
  },
  {
   "cell_type": "markdown",
   "metadata": {
    "heading_collapsed": "true"
   },
   "source": [
    "## 6.2 - Top Beer Names\n",
    "* Court Shoes Only (19)\n",
    "* Black is Beautiful (16) "
   ]
  },
  {
   "cell_type": "code",
   "execution_count": null,
   "metadata": {},
   "outputs": [],
   "source": [
    "# Court Shoes Only\n",
    "print(len(beer_df_clean[beer_df_clean['Beer Name'].str.contains(\"Court Shoes\", regex=False)]))\n",
    "\n",
    "beer_df_clean[beer_df_clean['Beer Name'].str.contains(\"Court Shoes\", regex=False)]"
   ]
  },
  {
   "cell_type": "code",
   "execution_count": null,
   "metadata": {},
   "outputs": [],
   "source": [
    "# Black is Beautiful\n",
    "print(len(beer_df_clean[beer_df_clean['Beer Name'].str.contains(\"Black Is\", regex=False)]))\n",
    "\n",
    "beer_df_clean[beer_df_clean['Beer Name'].str.contains(\"Black Is\", regex=False)]"
   ]
  },
  {
   "cell_type": "markdown",
   "metadata": {
    "heading_collapsed": "true"
   },
   "source": [
    "## 6.3 - Beers with Max and Min ABV"
   ]
  },
  {
   "cell_type": "code",
   "execution_count": null,
   "metadata": {},
   "outputs": [],
   "source": [
    "# Beers with Max ABV\n",
    "beer_df_clean.loc[beer_df_clean['Beer ABV']== 15]"
   ]
  },
  {
   "cell_type": "code",
   "execution_count": null,
   "metadata": {},
   "outputs": [],
   "source": [
    "# Beers with Min ABV\n",
    "beer_df_clean.loc[beer_df_clean['Beer ABV']== .1]"
   ]
  },
  {
   "cell_type": "markdown",
   "metadata": {
    "heading_collapsed": "true"
   },
   "source": [
    "## 6.4 - CLT Brewery Beer Ratings by Style"
   ]
  },
  {
   "cell_type": "code",
   "execution_count": 186,
   "metadata": {},
   "outputs": [],
   "source": [
    "df_tree = beer_df_clean.copy()\n",
    "\n",
    "df_tree['CLT'] = 'Charlotte Breweries' # in order to have a single root node"
   ]
  },
  {
   "cell_type": "code",
   "execution_count": null,
   "metadata": {},
   "outputs": [],
   "source": [
    "fig_tree_weights = px.treemap(df_tree, path=['CLT', 'Brewery', 'Beer Style'],\n",
    "                      values = 'Beer Total Ratings',\n",
    "                      color='Beer Rating',\n",
    "                      color_continuous_scale='RdBu',\n",
    "                      color_continuous_midpoint=np.average(df_tree['Beer Rating'], weights=df_tree['Beer Total Ratings']), \n",
    "                      title = 'Charlotte Brewery Beer Ratings by Style'\n",
    "                     )\n",
    "\n",
    "fig_tree_weights.update_layout(\n",
    "    autosize=True,\n",
    "    hovermode='closest',\n",
    "    margin=dict(t=40, b=10, l=50, r=50))\n",
    "\n",
    "\n",
    "fig_tree_weights.show()"
   ]
  },
  {
   "cell_type": "markdown",
   "metadata": {
    "heading_collapsed": "true"
   },
   "source": [
    "# 7. Data Pre-Processing"
   ]
  },
  {
   "cell_type": "code",
   "execution_count": null,
   "metadata": {},
   "outputs": [],
   "source": [
    "beer_df_clean = pd.read_csv('data/beer_df_clean.csv')"
   ]
  },
  {
   "cell_type": "markdown",
   "metadata": {
    "heading_collapsed": "true"
   },
   "source": [
    "## 7.1 - Calculate the average frequency of Beer Style occurence by Brewery"
   ]
  },
  {
   "cell_type": "code",
   "execution_count": 19,
   "metadata": {},
   "outputs": [],
   "source": [
    "# one hot encoding\n",
    "beer_styles_onehot = pd.get_dummies(beer_df_clean[['Beer Style']], prefix=\"\", prefix_sep=\"\")\n",
    "\n",
    "# add brewery column back to dataframe\n",
    "beer_styles_onehot['Brewery'] = beer_df_clean['Brewery'] \n",
    "\n",
    "# move brewery column to the first column\n",
    "fixed_columns = [beer_styles_onehot.columns[-1]] + list(beer_styles_onehot.columns[:-1])\n",
    "beer_styles_onehot = beer_styles_onehot[fixed_columns]"
   ]
  },
  {
   "cell_type": "code",
   "execution_count": null,
   "metadata": {},
   "outputs": [],
   "source": [
    "# Return the first 5 rows\n",
    "beer_styles_onehot.head()"
   ]
  },
  {
   "cell_type": "code",
   "execution_count": 20,
   "metadata": {},
   "outputs": [],
   "source": [
    "# Group the rows by Brewery and take the mean of the freq. of occurence of each beer style\n",
    "beer_styles_freq = beer_styles_onehot.groupby('Brewery').mean().reset_index()"
   ]
  },
  {
   "cell_type": "code",
   "execution_count": null,
   "metadata": {},
   "outputs": [],
   "source": [
    "# Return the first 5 rows\n",
    "beer_styles_freq.head()"
   ]
  },
  {
   "cell_type": "markdown",
   "metadata": {
    "heading_collapsed": "true"
   },
   "source": [
    "## 7.2 - Obtain the 10 most common Beer Styles by Brewery "
   ]
  },
  {
   "cell_type": "code",
   "execution_count": 134,
   "metadata": {},
   "outputs": [],
   "source": [
    "# Define function that returns the most common beer styles for each brewery\n",
    "def return_most_common_beer_styles(row, num_top_beer_styles):\n",
    "    row_categories = row.iloc[1:]\n",
    "    row_categories_sorted = row_categories.sort_values(ascending=False)\n",
    "    \n",
    "    return row_categories_sorted.index.values[0:num_top_beer_styles]"
   ]
  },
  {
   "cell_type": "code",
   "execution_count": null,
   "metadata": {},
   "outputs": [],
   "source": [
    "# Set number of common beer styles\n",
    "num_top_beer_styles = 10\n",
    "\n",
    "# Indicators used for the first 3 column names (i.e. 1st, 2nd, 3rd)\n",
    "indicators = ['st', 'nd', 'rd']\n",
    "\n",
    "# create columns according to number of top Beer Styles\n",
    "columns = ['Brewery']\n",
    "for ind in np.arange(num_top_beer_styles):\n",
    "    try:\n",
    "        columns.append('{}{} Most Common Beer Style'.format(ind+1, indicators[ind]))\n",
    "    except:\n",
    "        columns.append('{}th Most Common Beer Style'.format(ind+1))\n",
    "\n",
    "# create a new dataframe sorted by 1st most to 10th most common beer style\n",
    "brewery_beer_style_sorted = pd.DataFrame(columns=columns)\n",
    "brewery_beer_style_sorted['Brewery'] = beer_styles_freq['Brewery']\n",
    "\n",
    "for ind in np.arange(beer_styles_freq.shape[0]):\n",
    "    brewery_beer_style_sorted.iloc[ind, 1:] = return_most_common_beer_styles(beer_styles_freq.iloc[ind, :], num_top_beer_styles)"
   ]
  },
  {
   "cell_type": "code",
   "execution_count": null,
   "metadata": {},
   "outputs": [],
   "source": [
    "# Return the first 5 rows\n",
    "brewery_beer_style_sorted.head()"
   ]
  },
  {
   "cell_type": "markdown",
   "metadata": {
    "heading_collapsed": "true"
   },
   "source": [
    "## 7.3 - Define features and normalize data"
   ]
  },
  {
   "cell_type": "code",
   "execution_count": null,
   "metadata": {},
   "outputs": [],
   "source": [
    "# Define a function that takes in a dataframe and return the feature values as a numpy array\n",
    "def cluster_data(df):\n",
    "    X = df.values[:,1:]\n",
    "    X = np.nan_to_num(X)\n",
    "    return X"
   ]
  },
  {
   "cell_type": "code",
   "execution_count": 138,
   "metadata": {},
   "outputs": [],
   "source": [
    "# Call the function and pass in the beer_styles_freq df\n",
    "Clus_dataSet_pre_processed = cluster_data(beer_styles_freq)"
   ]
  },
  {
   "cell_type": "code",
   "execution_count": 139,
   "metadata": {},
   "outputs": [],
   "source": [
    "# Normalize the data\n",
    "Clus_dataSet = preprocessing.normalize(Clus_dataSet_pre_processed)"
   ]
  },
  {
   "cell_type": "markdown",
   "metadata": {
    "heading_collapsed": "true"
   },
   "source": [
    "# 8. Modeling\n",
    "1. Elbow Method - Identify the optical number of clusters  (Section 8.1)\n",
    "2. K-Means Clustering (Section 8.2)\n",
    "3. Apply Cluster labels (Section 8.3)"
   ]
  },
  {
   "cell_type": "markdown",
   "metadata": {
    "heading_collapsed": "true"
   },
   "source": [
    "## 8.1 - Elbow Method - Identify the optical number of clusters"
   ]
  },
  {
   "cell_type": "code",
   "execution_count": null,
   "metadata": {},
   "outputs": [],
   "source": [
    "# Run the Kmeans algorithm and get the index of data points clusters\n",
    "sse = []\n",
    "list_k = list(range(1, 10))\n",
    "\n",
    "for k in list_k:\n",
    "    km = KMeans(init = \"k-means++\", n_clusters = k, n_init = 60, random_state=10)\n",
    "    km.fit(Clus_dataSet)\n",
    "    sse.append(km.inertia_)\n",
    "    \n",
    "fig = px.line(x=list_k, y=sse, \n",
    "              labels = {'x': 'Number of Clusters', 'y':'Sum of Squared Distance'}, \n",
    "              title='Optimal Number of Clusters using Elbow Method')\n",
    "\n",
    "fig.show()"
   ]
  },
  {
   "cell_type": "markdown",
   "metadata": {
    "heading_collapsed": "true"
   },
   "source": [
    "## 8.2 - K-Means Clustering Modeling "
   ]
  },
  {
   "cell_type": "code",
   "execution_count": 150,
   "metadata": {},
   "outputs": [],
   "source": [
    "clusterNum = 5\n",
    "k_means = KMeans(init = \"k-means++\", n_clusters = clusterNum, n_init = 60, random_state=10)\n",
    "k_means.fit(Clus_dataSet)\n",
    "\n",
    "# Create labels variable of the cluster #s\n",
    "labels = k_means.labels_"
   ]
  },
  {
   "cell_type": "markdown",
   "metadata": {
    "heading_collapsed": "true"
   },
   "source": [
    "## 8.3 - Apply Cluster labels"
   ]
  },
  {
   "cell_type": "code",
   "execution_count": 152,
   "metadata": {},
   "outputs": [],
   "source": [
    "cluster_df = beer_styles_freq.copy()"
   ]
  },
  {
   "cell_type": "code",
   "execution_count": 153,
   "metadata": {},
   "outputs": [],
   "source": [
    "# Add the labels of the clusters to the df\n",
    "cluster_df['Clusters'] = labels\n",
    "\n",
    "# Create dictionary for the labels\n",
    "label_dict = {0: 'Cluster 1', 1: 'Cluster 2', \n",
    "              2: 'Cluster 3', 3: 'Cluster 4', \n",
    "              4: 'Cluster 5'}\n",
    "\n",
    "# Replace the Cluster values from the dictionary (i.e. 0 --> \"Cluster 1\")\n",
    "cluster_df['Clusters'].replace(label_dict, inplace=True)"
   ]
  },
  {
   "cell_type": "code",
   "execution_count": null,
   "metadata": {},
   "outputs": [],
   "source": [
    "# move Clusters column to the first column\n",
    "fixed_columns = [cluster_df.columns[-1]] + list(cluster_df.columns[:-1])\n",
    "cluster_df = cluster_df[fixed_columns]\n",
    "cluster_df.head()"
   ]
  },
  {
   "cell_type": "markdown",
   "metadata": {
    "heading_collapsed": "true"
   },
   "source": [
    "# 9. Results\n",
    "1. Visualize clusters on map (Section 9.1)\n",
    "2. Examine Clusters (Section 9.2)"
   ]
  },
  {
   "cell_type": "markdown",
   "metadata": {
    "heading_collapsed": "true"
   },
   "source": [
    "## 9.1 - Visualize Clusters on map"
   ]
  },
  {
   "cell_type": "code",
   "execution_count": 156,
   "metadata": {},
   "outputs": [],
   "source": [
    "# Create a copy for Clusters\n",
    "CLT_Brew_Cluster = CLT_Brew.copy()"
   ]
  },
  {
   "cell_type": "code",
   "execution_count": null,
   "metadata": {},
   "outputs": [],
   "source": [
    "# Merge the cluster_df to the CLT_Brew_Cluster\n",
    "CLT_Brew_Cluster = pd.merge(CLT_Brew_Cluster, cluster_df[['Brewery','Clusters']], on='Brewery', how='left')\n",
    "\n",
    "CLT_Brew_Cluster.head()"
   ]
  },
  {
   "cell_type": "code",
   "execution_count": null,
   "metadata": {},
   "outputs": [],
   "source": [
    "mapbox_token = 'your_mapbox_token'\n",
    "\n",
    "clt_lat = 35.2271\n",
    "clt_lng = -80.8431\n",
    "\n",
    "clt_geo = {\n",
    "  \"lat\": clt_lat,\n",
    "  \"lon\": clt_lng\n",
    "}\n",
    "\n",
    "import plotly.express as px\n",
    "px.set_mapbox_access_token(mapbox_token)\n",
    "\n",
    "fig = px.scatter_mapbox(\n",
    "    CLT_Brew_Cluster,\n",
    "    lat=CLT_Brew_Cluster['Brewery Latitude'],\n",
    "    lon=CLT_Brew_Cluster['Brewery Longitude'],\n",
    "    hover_name=CLT_Brew_Cluster['Brewery'],\n",
    "    color = CLT_Brew_Cluster['Clusters'],\n",
    "    center= clt_geo,\n",
    "    zoom=10.1,\n",
    "    title = 'Charlotte Brewery Clusters',\n",
    "    category_orders = {'Clusters': ('Cluster 1', 'Cluster 2', 'Cluster 3', 'Cluster 4', 'Cluster 5')})\n",
    "\n",
    "fig.update_layout(\n",
    "    autosize=True,\n",
    "    hovermode='closest',\n",
    "    margin=dict(t=40, b=30, l=100, r=50))\n",
    "\n",
    "    \n",
    "fig.show()"
   ]
  },
  {
   "cell_type": "markdown",
   "metadata": {
    "heading_collapsed": "true"
   },
   "source": [
    "## 9.2 - Examine Clusters"
   ]
  },
  {
   "cell_type": "code",
   "execution_count": null,
   "metadata": {},
   "outputs": [],
   "source": [
    "# Merge the cluster labels on the top 10 most common beer styles df\n",
    "brewery_beer_style_sorted_cluster = pd.merge(brewery_beer_style_sorted, cluster_df[['Brewery', 'Clusters']], on='Brewery', how='left')"
   ]
  },
  {
   "cell_type": "markdown",
   "metadata": {
    "heading_collapsed": "true"
   },
   "source": [
    "### Cluster 1"
   ]
  },
  {
   "cell_type": "code",
   "execution_count": null,
   "metadata": {},
   "outputs": [],
   "source": [
    "# Print out the number of breweries in this cluster\n",
    "print(len(brewery_beer_style_sorted_cluster.loc[brewery_beer_style_sorted_cluster['Clusters'] == 'Cluster 1']))\n",
    "\n",
    "# Return the cluster 1 breweries\n",
    "brewery_beer_style_sorted_cluster.loc[brewery_beer_style_sorted_cluster['Clusters'] == 'Cluster 1']"
   ]
  },
  {
   "cell_type": "code",
   "execution_count": null,
   "metadata": {},
   "outputs": [],
   "source": [
    "# Create a parallel categories chart to visualize breweries and their common beer styles\n",
    "clus_1 = px.parallel_categories(brewery_beer_style_sorted_cluster.loc[brewery_beer_style_sorted_cluster['Clusters'] == 'Cluster 1'], \n",
    "                             dimensions=['Brewery','1st Most Common Beer Style', \n",
    "                                         '2nd Most Common Beer Style',\n",
    "                                         '3rd Most Common Beer Style',\n",
    "                                         '4th Most Common Beer Style'], \n",
    "                                title = 'Cluster 1 Breweries')\n",
    "\n",
    "\n",
    "clus_1.update_layout(\n",
    "    autosize=True,\n",
    "    hovermode='closest',\n",
    "    margin=dict(t=125, b=20, l=160, r=120))\n",
    "\n",
    "clus_1.show()"
   ]
  },
  {
   "cell_type": "markdown",
   "metadata": {
    "heading_collapsed": "true"
   },
   "source": [
    "### Cluster 2"
   ]
  },
  {
   "cell_type": "code",
   "execution_count": null,
   "metadata": {},
   "outputs": [],
   "source": [
    "# Print out the number of breweries in this cluster\n",
    "print(len(brewery_beer_style_sorted_cluster.loc[brewery_beer_style_sorted_cluster['Clusters'] == 'Cluster 2']))\n",
    "\n",
    "# Return the cluster 2 breweries \n",
    "brewery_beer_style_sorted_cluster.loc[brewery_beer_style_sorted_cluster['Clusters'] == 'Cluster 2']"
   ]
  },
  {
   "cell_type": "code",
   "execution_count": null,
   "metadata": {},
   "outputs": [],
   "source": [
    "# Create a parallel categories chart to visualize breweries and their common beer styles\n",
    "clus_2 = px.parallel_categories(brewery_beer_style_sorted_cluster.loc[brewery_beer_style_sorted_cluster['Clusters'] == 'Cluster 2'], \n",
    "                             dimensions=['Brewery','1st Most Common Beer Style', \n",
    "                                         '2nd Most Common Beer Style',\n",
    "                                         '3rd Most Common Beer Style',\n",
    "                                        '4th Most Common Beer Style'], \n",
    "                                title = 'Cluster 2 Breweries')\n",
    "\n",
    "\n",
    "clus_2.update_layout(\n",
    "    autosize=True,\n",
    "    hovermode='closest',\n",
    "    margin=dict(t=125, b=20, l=130, r=160))\n",
    "\n",
    "clus_2.show()"
   ]
  },
  {
   "cell_type": "markdown",
   "metadata": {
    "heading_collapsed": "true"
   },
   "source": [
    "### Cluster 3"
   ]
  },
  {
   "cell_type": "code",
   "execution_count": null,
   "metadata": {},
   "outputs": [],
   "source": [
    "# Print out the number of breweries in this cluster\n",
    "print(len(brewery_beer_style_sorted_cluster.loc[brewery_beer_style_sorted_cluster['Clusters'] == 'Cluster 3']))\n",
    "\n",
    "# Return the cluster 3 breweries \n",
    "brewery_beer_style_sorted_cluster.loc[brewery_beer_style_sorted_cluster['Clusters'] == 'Cluster 3']"
   ]
  },
  {
   "cell_type": "code",
   "execution_count": null,
   "metadata": {},
   "outputs": [],
   "source": [
    "# Create a parallel categories chart to visualize breweries and their common beer styles\n",
    "clus_3 = px.parallel_categories(brewery_beer_style_sorted_cluster.loc[brewery_beer_style_sorted_cluster['Clusters'] == 'Cluster 3'], \n",
    "                             dimensions=['Brewery','1st Most Common Beer Style', \n",
    "                                         '2nd Most Common Beer Style',\n",
    "                                         '3rd Most Common Beer Style', \n",
    "                                        '4th Most Common Beer Style'], \n",
    "                                title = 'Cluster 3 Breweries')\n",
    "\n",
    "\n",
    "clus_3.update_layout(\n",
    "    autosize=True,\n",
    "    hovermode='closest',\n",
    "    margin=dict(t=125, b=20, l=150, r=130))\n",
    "\n",
    "clus_3.show()"
   ]
  },
  {
   "cell_type": "markdown",
   "metadata": {
    "heading_collapsed": "true"
   },
   "source": [
    "### Cluster 4"
   ]
  },
  {
   "cell_type": "code",
   "execution_count": null,
   "metadata": {},
   "outputs": [],
   "source": [
    "# Print out the number of breweries in this cluster\n",
    "print(len(brewery_beer_style_sorted_cluster.loc[brewery_beer_style_sorted_cluster['Clusters'] == 'Cluster 4']))\n",
    "\n",
    "# Return the cluster 4 breweries \n",
    "brewery_beer_style_sorted_cluster.loc[brewery_beer_style_sorted_cluster['Clusters'] == 'Cluster 4']"
   ]
  },
  {
   "cell_type": "code",
   "execution_count": null,
   "metadata": {},
   "outputs": [],
   "source": [
    "# Create a parallel categories chart to visualize breweries and their common beer styles\n",
    "clus_4 = px.parallel_categories(brewery_beer_style_sorted_cluster.loc[brewery_beer_style_sorted_cluster['Clusters'] == 'Cluster 4'], \n",
    "                             dimensions=['Brewery','1st Most Common Beer Style', \n",
    "                                         '2nd Most Common Beer Style',\n",
    "                                         '3rd Most Common Beer Style',\n",
    "                                        '4th Most Common Beer Style'], \n",
    "                                title = 'Cluster 4 Breweries')\n",
    "\n",
    "\n",
    "clus_4.update_layout(\n",
    "    autosize=True,\n",
    "    hovermode='closest',\n",
    "    margin=dict(t=125, b=20, l=160, r=120))\n",
    "\n",
    "clus_4.show()"
   ]
  },
  {
   "cell_type": "markdown",
   "metadata": {
    "heading_collapsed": "true"
   },
   "source": [
    "### Cluster 5"
   ]
  },
  {
   "cell_type": "code",
   "execution_count": null,
   "metadata": {},
   "outputs": [],
   "source": [
    "# Print out the number of breweries in this cluster\n",
    "print(len(brewery_beer_style_sorted_cluster.loc[brewery_beer_style_sorted_cluster['Clusters'] == 'Cluster 5']))\n",
    "\n",
    "# Return the cluster 5 breweries \n",
    "brewery_beer_style_sorted_cluster.loc[brewery_beer_style_sorted_cluster['Clusters'] == 'Cluster 5']"
   ]
  },
  {
   "cell_type": "code",
   "execution_count": null,
   "metadata": {},
   "outputs": [],
   "source": [
    "# Create a parallel categories chart to visualize breweries and their common beer styles\n",
    "clus_5 = px.parallel_categories(brewery_beer_style_sorted_cluster.loc[brewery_beer_style_sorted_cluster['Clusters'] == 'Cluster 5'], \n",
    "                             dimensions=['Brewery','1st Most Common Beer Style', \n",
    "                                         '2nd Most Common Beer Style',\n",
    "                                         '3rd Most Common Beer Style',\n",
    "                                         '4th Most Common Beer Style'\n",
    "                                        ]\n",
    "                                , title = 'Cluster 5 Breweries')\n",
    "\n",
    "\n",
    "clus_5.update_layout(\n",
    "    autosize=True,\n",
    "    hovermode='closest',\n",
    "    margin=dict(t=125, b=20, l=160, r=120))\n",
    "\n",
    "clus_5.show()"
   ]
  }
 ],
 "metadata": {
  "kernelspec": {
   "display_name": "Python 3",
   "language": "python",
   "name": "python3"
  },
  "language_info": {
   "codemirror_mode": {
    "name": "ipython",
    "version": 3
   },
   "file_extension": ".py",
   "mimetype": "text/x-python",
   "name": "python",
   "nbconvert_exporter": "python",
   "pygments_lexer": "ipython3",
   "version": "3.8.5"
  }
 },
 "nbformat": 4,
 "nbformat_minor": 4
}
